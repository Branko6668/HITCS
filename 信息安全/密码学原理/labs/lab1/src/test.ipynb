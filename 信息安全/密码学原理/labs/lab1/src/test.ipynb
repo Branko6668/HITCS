{
 "cells": [
  {
   "cell_type": "code",
   "execution_count": 10,
   "metadata": {},
   "outputs": [],
   "source": [
    "import itertools \n",
    "# 十个密文的16进制\n",
    "cipher_hex = [\n",
    "    \"315c4eeaa8b5f8aaf9174145bf43e1784b8fa00dc71d885a804e5ee9fa40b16349c146fb778cdf2d3aff021dfff5b403b510d0d0455468aeb98622b137dae857553ccd8883a7bc37520e06e515d22c954eba5025b8cc57ee59418ce7dc6bc41556bdb36bbca3e8774301fbcaa3b83b220809560987815f65286764703de0f3d524400a19b159610b11ef3e\", # 1\n",
    "    \"234c02ecbbfbafa3ed18510abd11fa724fcda2018a1a8342cf064bbde548b12b07df44ba7191d9606ef4081ffde5ad46a5069d9f7f543bedb9c861bf29c7e205132eda9382b0bc2c5c4b45f919cf3a9f1cb74151f6d551f4480c82b2cb24cc5b028aa76eb7b4ab24171ab3cdadb8356f\", # 2 \n",
    "    \"32510ba9a7b2bba9b8005d43a304b5714cc0bb0c8a34884dd91304b8ad40b62b07df44ba6e9d8a2368e51d04e0e7b207b70b9b8261112bacb6c866a232dfe257527dc29398f5f3251a0d47e503c66e935de81230b59b7afb5f41afa8d661cb\", # 3\n",
    "    \"32510ba9aab2a8a4fd06414fb517b5605cc0aa0dc91a8908c2064ba8ad5ea06a029056f47a8ad3306ef5021eafe1ac01a81197847a5c68a1b78769a37bc8f4575432c198ccb4ef63590256e305cd3a9544ee4160ead45aef520489e7da7d835402bca670bda8eb775200b8dabbba246b130f040d8ec6447e2c767f3d30ed81ea2e4c1404e1315a1010e7229be6636aaa\", # 4\n",
    "    \"3f561ba9adb4b6ebec54424ba317b564418fac0dd35f8c08d31a1fe9e24fe56808c213f17c81d9607cee021dafe1e001b21ade877a5e68bea88d61b93ac5ee0d562e8e9582f5ef375f0a4ae20ed86e935de81230b59b73fb4302cd95d770c65b40aaa065f2a5e33a5a0bb5dcaba43722130f042f8ec85b7c2070\", # 5\n",
    "    \"32510bfbacfbb9befd54415da243e1695ecabd58c519cd4bd2061bbde24eb76a19d84aba34d8de287be84d07e7e9a30ee714979c7e1123a8bd9822a33ecaf512472e8e8f8db3f9635c1949e640c621854eba0d79eccf52ff111284b4cc61d11902aebc66f2b2e436434eacc0aba938220b084800c2ca4e693522643573b2c4ce35050b0cf774201f0fe52ac9f26d71b6cf61a711cc229f77ace7aa88a2f19983122b11be87a59c355d25f8e4\", # 6\n",
    "    \"32510bfbacfbb9befd54415da243e1695ecabd58c519cd4bd90f1fa6ea5ba47b01c909ba7696cf606ef40c04afe1ac0aa8148dd066592ded9f8774b529c7ea125d298e8883f5e9305f4b44f915cb2bd05af51373fd9b4af511039fa2d96f83414aaaf261bda2e97b170fb5cce2a53e675c154c0d9681596934777e2275b381ce2e40582afe67650b13e72287ff2270abcf73bb028932836fbdecfecee0a3b894473c1bbeb6b4913a536ce4f9b13f1efff71ea313c8661dd9a4ce\", # 7\n",
    "    \"315c4eeaa8b5f8bffd11155ea506b56041c6a00c8a08854dd21a4bbde54ce56801d943ba708b8a3574f40c00fff9e00fa1439fd0654327a3bfc860b92f89ee04132ecb9298f5fd2d5e4b45e40ecc3b9d59e9417df7c95bba410e9aa2ca24c5474da2f276baa3ac325918b2daada43d6712150441c2e04f6565517f317da9d3\", # 8\n",
    "    \"271946f9bbb2aeadec111841a81abc300ecaa01bd8069d5cc91005e9fe4aad6e04d513e96d99de2569bc5e50eeeca709b50a8a987f4264edb6896fb537d0a716132ddc938fb0f836480e06ed0fcd6e9759f40462f9cf57f4564186a2c1778f1543efa270bda5e933421cbe88a4a52222190f471e9bd15f652b653b7071aec59a2705081ffe72651d08f822c9ed6d76e48b63ab15d0208573a7eef027\", # 9\n",
    "    \"466d06ece998b7a2fb1d464fed2ced7641ddaa3cc31c9941cf110abbf409ed39598005b3399ccfafb61d0315fca0a314be138a9f32503bedac8067f03adbf3575c3b8edc9ba7f537530541ab0f9f3cd04ff50d66f1d559ba520e89a2cb2a83\", # 10\n",
    "    \"32510ba9babebbbefd001547a810e67149caee11d945cd7fc81a05e9f85aac650e9052ba6a8cd8257bf14d13e6f0a803b54fde9e77472dbff89d71b57bddef121336cb85ccb8f3315f4b52e301d16e9f52f904\", #11\n",
    "]"
   ]
  },
  {
   "cell_type": "code",
   "execution_count": 11,
   "metadata": {},
   "outputs": [],
   "source": [
    "# 目标密文\n",
    "target_cipher_hex = \"32510ba9babebbbefd001547a810e67149caee11d945cd7fc81a05e9f85aac650e9052ba6a8cd8257bf14d13e6f0a803b54fde9e77472dbff89d71b57bddef121336cb85ccb8f3315f4b52e301d16e9f52f904\""
   ]
  },
  {
   "cell_type": "code",
   "execution_count": 12,
   "metadata": {},
   "outputs": [],
   "source": [
    "# 转换成普通bytes\n",
    "ciphertexts = [bytes.fromhex(ct) for ct in cipher_hex]"
   ]
  },
  {
   "cell_type": "code",
   "execution_count": 13,
   "metadata": {},
   "outputs": [
    {
     "data": {
      "text/plain": [
       "[b'1\\\\N\\xea\\xa8\\xb5\\xf8\\xaa\\xf9\\x17AE\\xbfC\\xe1xK\\x8f\\xa0\\r\\xc7\\x1d\\x88Z\\x80N^\\xe9\\xfa@\\xb1cI\\xc1F\\xfbw\\x8c\\xdf-:\\xff\\x02\\x1d\\xff\\xf5\\xb4\\x03\\xb5\\x10\\xd0\\xd0ETh\\xae\\xb9\\x86\"\\xb17\\xda\\xe8WU<\\xcd\\x88\\x83\\xa7\\xbc7R\\x0e\\x06\\xe5\\x15\\xd2,\\x95N\\xbaP%\\xb8\\xccW\\xeeYA\\x8c\\xe7\\xdck\\xc4\\x15V\\xbd\\xb3k\\xbc\\xa3\\xe8wC\\x01\\xfb\\xca\\xa3\\xb8;\"\\x08\\tV\\t\\x87\\x81_e(gdp=\\xe0\\xf3\\xd5$@\\n\\x19\\xb1Ya\\x0b\\x11\\xef>',\n",
       " b'#L\\x02\\xec\\xbb\\xfb\\xaf\\xa3\\xed\\x18Q\\n\\xbd\\x11\\xfarO\\xcd\\xa2\\x01\\x8a\\x1a\\x83B\\xcf\\x06K\\xbd\\xe5H\\xb1+\\x07\\xdfD\\xbaq\\x91\\xd9`n\\xf4\\x08\\x1f\\xfd\\xe5\\xadF\\xa5\\x06\\x9d\\x9f\\x7fT;\\xed\\xb9\\xc8a\\xbf)\\xc7\\xe2\\x05\\x13.\\xda\\x93\\x82\\xb0\\xbc,\\\\KE\\xf9\\x19\\xcf:\\x9f\\x1c\\xb7AQ\\xf6\\xd5Q\\xf4H\\x0c\\x82\\xb2\\xcb$\\xcc[\\x02\\x8a\\xa7n\\xb7\\xb4\\xab$\\x17\\x1a\\xb3\\xcd\\xad\\xb85o',\n",
       " b'2Q\\x0b\\xa9\\xa7\\xb2\\xbb\\xa9\\xb8\\x00]C\\xa3\\x04\\xb5qL\\xc0\\xbb\\x0c\\x8a4\\x88M\\xd9\\x13\\x04\\xb8\\xad@\\xb6+\\x07\\xdfD\\xban\\x9d\\x8a#h\\xe5\\x1d\\x04\\xe0\\xe7\\xb2\\x07\\xb7\\x0b\\x9b\\x82a\\x11+\\xac\\xb6\\xc8f\\xa22\\xdf\\xe2WR}\\xc2\\x93\\x98\\xf5\\xf3%\\x1a\\rG\\xe5\\x03\\xc6n\\x93]\\xe8\\x120\\xb5\\x9bz\\xfb_A\\xaf\\xa8\\xd6a\\xcb',\n",
       " b'2Q\\x0b\\xa9\\xaa\\xb2\\xa8\\xa4\\xfd\\x06AO\\xb5\\x17\\xb5`\\\\\\xc0\\xaa\\r\\xc9\\x1a\\x89\\x08\\xc2\\x06K\\xa8\\xad^\\xa0j\\x02\\x90V\\xf4z\\x8a\\xd30n\\xf5\\x02\\x1e\\xaf\\xe1\\xac\\x01\\xa8\\x11\\x97\\x84z\\\\h\\xa1\\xb7\\x87i\\xa3{\\xc8\\xf4WT2\\xc1\\x98\\xcc\\xb4\\xefcY\\x02V\\xe3\\x05\\xcd:\\x95D\\xeeA`\\xea\\xd4Z\\xefR\\x04\\x89\\xe7\\xda}\\x83T\\x02\\xbc\\xa6p\\xbd\\xa8\\xebwR\\x00\\xb8\\xda\\xbb\\xba$k\\x13\\x0f\\x04\\r\\x8e\\xc6D~,v\\x7f=0\\xed\\x81\\xea.L\\x14\\x04\\xe11Z\\x10\\x10\\xe7\"\\x9b\\xe6cj\\xaa',\n",
       " b'?V\\x1b\\xa9\\xad\\xb4\\xb6\\xeb\\xecTBK\\xa3\\x17\\xb5dA\\x8f\\xac\\r\\xd3_\\x8c\\x08\\xd3\\x1a\\x1f\\xe9\\xe2O\\xe5h\\x08\\xc2\\x13\\xf1|\\x81\\xd9`|\\xee\\x02\\x1d\\xaf\\xe1\\xe0\\x01\\xb2\\x1a\\xde\\x87z^h\\xbe\\xa8\\x8da\\xb9:\\xc5\\xee\\rV.\\x8e\\x95\\x82\\xf5\\xef7_\\nJ\\xe2\\x0e\\xd8n\\x93]\\xe8\\x120\\xb5\\x9bs\\xfbC\\x02\\xcd\\x95\\xd7p\\xc6[@\\xaa\\xa0e\\xf2\\xa5\\xe3:Z\\x0b\\xb5\\xdc\\xab\\xa47\"\\x13\\x0f\\x04/\\x8e\\xc8[| p',\n",
       " b'2Q\\x0b\\xfb\\xac\\xfb\\xb9\\xbe\\xfdTA]\\xa2C\\xe1i^\\xca\\xbdX\\xc5\\x19\\xcdK\\xd2\\x06\\x1b\\xbd\\xe2N\\xb7j\\x19\\xd8J\\xba4\\xd8\\xde({\\xe8M\\x07\\xe7\\xe9\\xa3\\x0e\\xe7\\x14\\x97\\x9c~\\x11#\\xa8\\xbd\\x98\"\\xa3>\\xca\\xf5\\x12G.\\x8e\\x8f\\x8d\\xb3\\xf9c\\\\\\x19I\\xe6@\\xc6!\\x85N\\xba\\ry\\xec\\xcfR\\xff\\x11\\x12\\x84\\xb4\\xcca\\xd1\\x19\\x02\\xae\\xbcf\\xf2\\xb2\\xe46CN\\xac\\xc0\\xab\\xa98\"\\x0b\\x08H\\x00\\xc2\\xcaNi5\"d5s\\xb2\\xc4\\xce5\\x05\\x0b\\x0c\\xf7t \\x1f\\x0f\\xe5*\\xc9\\xf2mq\\xb6\\xcfa\\xa7\\x11\\xcc\"\\x9fw\\xac\\xe7\\xaa\\x88\\xa2\\xf1\\x99\\x83\\x12+\\x11\\xbe\\x87\\xa5\\x9c5]%\\xf8\\xe4',\n",
       " b'2Q\\x0b\\xfb\\xac\\xfb\\xb9\\xbe\\xfdTA]\\xa2C\\xe1i^\\xca\\xbdX\\xc5\\x19\\xcdK\\xd9\\x0f\\x1f\\xa6\\xea[\\xa4{\\x01\\xc9\\t\\xbav\\x96\\xcf`n\\xf4\\x0c\\x04\\xaf\\xe1\\xac\\n\\xa8\\x14\\x8d\\xd0fY-\\xed\\x9f\\x87t\\xb5)\\xc7\\xea\\x12])\\x8e\\x88\\x83\\xf5\\xe90_KD\\xf9\\x15\\xcb+\\xd0Z\\xf5\\x13s\\xfd\\x9bJ\\xf5\\x11\\x03\\x9f\\xa2\\xd9o\\x83AJ\\xaa\\xf2a\\xbd\\xa2\\xe9{\\x17\\x0f\\xb5\\xcc\\xe2\\xa5>g\\\\\\x15L\\r\\x96\\x81Yi4w~\"u\\xb3\\x81\\xce.@X*\\xfege\\x0b\\x13\\xe7\"\\x87\\xff\"p\\xab\\xcfs\\xbb\\x02\\x892\\x83o\\xbd\\xec\\xfe\\xce\\xe0\\xa3\\xb8\\x94G<\\x1b\\xbe\\xb6\\xb4\\x91:Sl\\xe4\\xf9\\xb1?\\x1e\\xff\\xf7\\x1e\\xa3\\x13\\xc8f\\x1d\\xd9\\xa4\\xce',\n",
       " b\"1\\\\N\\xea\\xa8\\xb5\\xf8\\xbf\\xfd\\x11\\x15^\\xa5\\x06\\xb5`A\\xc6\\xa0\\x0c\\x8a\\x08\\x85M\\xd2\\x1aK\\xbd\\xe5L\\xe5h\\x01\\xd9C\\xbap\\x8b\\x8a5t\\xf4\\x0c\\x00\\xff\\xf9\\xe0\\x0f\\xa1C\\x9f\\xd0eC'\\xa3\\xbf\\xc8`\\xb9/\\x89\\xee\\x04\\x13.\\xcb\\x92\\x98\\xf5\\xfd-^KE\\xe4\\x0e\\xcc;\\x9dY\\xe9A}\\xf7\\xc9[\\xbaA\\x0e\\x9a\\xa2\\xca$\\xc5GM\\xa2\\xf2v\\xba\\xa3\\xac2Y\\x18\\xb2\\xda\\xad\\xa4=g\\x12\\x15\\x04A\\xc2\\xe0OeeQ\\x7f1}\\xa9\\xd3\",\n",
       " b'\\'\\x19F\\xf9\\xbb\\xb2\\xae\\xad\\xec\\x11\\x18A\\xa8\\x1a\\xbc0\\x0e\\xca\\xa0\\x1b\\xd8\\x06\\x9d\\\\\\xc9\\x10\\x05\\xe9\\xfeJ\\xadn\\x04\\xd5\\x13\\xe9m\\x99\\xde%i\\xbc^P\\xee\\xec\\xa7\\t\\xb5\\n\\x8a\\x98\\x7fBd\\xed\\xb6\\x89o\\xb57\\xd0\\xa7\\x16\\x13-\\xdc\\x93\\x8f\\xb0\\xf86H\\x0e\\x06\\xed\\x0f\\xcdn\\x97Y\\xf4\\x04b\\xf9\\xcfW\\xf4VA\\x86\\xa2\\xc1w\\x8f\\x15C\\xef\\xa2p\\xbd\\xa5\\xe93B\\x1c\\xbe\\x88\\xa4\\xa5\"\"\\x19\\x0fG\\x1e\\x9b\\xd1_e+e;pq\\xae\\xc5\\x9a\\'\\x05\\x08\\x1f\\xfere\\x1d\\x08\\xf8\"\\xc9\\xedmv\\xe4\\x8bc\\xab\\x15\\xd0 \\x85s\\xa7\\xee\\xf0\\'',\n",
       " b'Fm\\x06\\xec\\xe9\\x98\\xb7\\xa2\\xfb\\x1dFO\\xed,\\xedvA\\xdd\\xaa<\\xc3\\x1c\\x99A\\xcf\\x11\\n\\xbb\\xf4\\t\\xed9Y\\x80\\x05\\xb39\\x9c\\xcf\\xaf\\xb6\\x1d\\x03\\x15\\xfc\\xa0\\xa3\\x14\\xbe\\x13\\x8a\\x9f2P;\\xed\\xac\\x80g\\xf0:\\xdb\\xf3W\\\\;\\x8e\\xdc\\x9b\\xa7\\xf57S\\x05A\\xab\\x0f\\x9f<\\xd0O\\xf5\\rf\\xf1\\xd5Y\\xbaR\\x0e\\x89\\xa2\\xcb*\\x83',\n",
       " b'2Q\\x0b\\xa9\\xba\\xbe\\xbb\\xbe\\xfd\\x00\\x15G\\xa8\\x10\\xe6qI\\xca\\xee\\x11\\xd9E\\xcd\\x7f\\xc8\\x1a\\x05\\xe9\\xf8Z\\xace\\x0e\\x90R\\xbaj\\x8c\\xd8%{\\xf1M\\x13\\xe6\\xf0\\xa8\\x03\\xb5O\\xde\\x9ewG-\\xbf\\xf8\\x9dq\\xb5{\\xdd\\xef\\x12\\x136\\xcb\\x85\\xcc\\xb8\\xf31_KR\\xe3\\x01\\xd1n\\x9fR\\xf9\\x04']"
      ]
     },
     "execution_count": 13,
     "metadata": {},
     "output_type": "execute_result"
    }
   ],
   "source": [
    "ciphertexts"
   ]
  },
  {
   "cell_type": "code",
   "execution_count": 5,
   "metadata": {},
   "outputs": [
    {
     "data": {
      "text/plain": [
       "b'2Q\\x0b\\xa9\\xba\\xbe\\xbb\\xbe\\xfd\\x00\\x15G\\xa8\\x10\\xe6qI\\xca\\xee\\x11\\xd9E\\xcd\\x7f\\xc8\\x1a\\x05\\xe9\\xf8Z\\xace\\x0e\\x90R\\xbaj\\x8c\\xd8%{\\xf1M\\x13\\xe6\\xf0\\xa8\\x03\\xb5O\\xde\\x9ewG-\\xbf\\xf8\\x9dq\\xb5{\\xdd\\xef\\x12\\x136\\xcb\\x85\\xcc\\xb8\\xf31_KR\\xe3\\x01\\xd1n\\x9fR\\xf9\\x04'"
      ]
     },
     "execution_count": 5,
     "metadata": {},
     "output_type": "execute_result"
    }
   ],
   "source": [
    "target_cipher = bytes.fromhex(target_cipher_hex)\n",
    "target_cipher"
   ]
  },
  {
   "cell_type": "code",
   "execution_count": 14,
   "metadata": {},
   "outputs": [
    {
     "name": "stdout",
     "output_type": "stream",
     "text": [
      "f9nt5*c\u0010.x(nk)\u000bi3\u0019@\u001ampfc\u00121H\u0002[w3]C:k&`N<a\u0010\u00001a\u0000\u00045\"\u0000\u0000W7n\u0000\u0000\u0002|\u0000$a\u0000\u0000E\u0002\u001bP\u0010\u0000%x\u0000\u0011\u0000\u0000\u0000\u0000\u0000\u0000\u0002\u0000\u0000\u0000\u0000\u0000\u0000\u0000\u0000\u0000\u0000\u00002\u0000\u0000\u0000\u0000\u0000\u0000\u0000\u0000\u0005\u0000\u0000\u0000\u0000\u0000\u0000\u0000\u0000\u0000\u0000\u0000\u0000\u0000\u0000\u0000\u0000\n",
      "----------------------------------------------------------------------\n",
      "The decrypted message with the key we guessed is : \n",
      "The secuet message is: Whtn using a stream cipher, never use the key more than once\n",
      "----------------------------------------------------------------------\n",
      "cipher 0 We can aactor the number  5 with quantum computers. We can also factor the number 15-wWth a og traknd to ba; t\trhe _eme - Ro$er\u0019 Ha\u000b\u0011>\n",
      "\n",
      "cipher 1 Euler whuld probably enjoh that now his theorem becomes a corner stone of crypto - AcnQnymou on Eune's theo5m\n",
      "\n",
      "cipher 2 The nicb thing about Keey}oq is now we cryptographers can drive a lot of fancy cars   zan Boeh\n",
      "\n",
      "cipher 3 The cipoertext produced bh a weak encryption algorithm looks as good as ciphertext poZuced y a stpog encry$io\u000f llgD~itdm - P.il\u0004p Z\u0010\u0010\"rajn\n",
      "\n",
      "cipher 4 You don t want to buy a stt of car keys from a guy who specializes in stealing cars   sarc Rtenbere ommenti7 o\u000f Nli[|er\n",
      "\n",
      "cipher 5 There aue two types of crhptography - that which will keep secrets safe from your liytRe siser, anf hat whi8 la kNip ecret5 s\ffe \u001f\u000f* oqrda\u0011e\"w   r +\u00115] \n",
      "\n",
      "cipher 6 There aue two types of cyatography: one that allows the Government to use brute forch Jo brek the aoe, and >e \u0015hlt Yiqueres t.e *ove\u000b\u0013\"n pods\u0002 2otfb u<\u001b:Si?\u001e\u001e\u0013f\u001d\n",
      "\n",
      "cipher 7 We can tee the point whert the chip is unhappy if a wrong bit is sent and consumes mbr[ powe from vh enviro=en\u0015   AOe Sdamir\n",
      "\n",
      "cipher 8 A (privfte-key)  encrypti~n scheme states 3 algorithms, namely a procedure for generltWng kes, a ppoedure f\" e\u000fcyp_eng  and ' p\u001foce\" ov  c\u0015y sz\n",
      "\n",
      "cipher 9  The Coicise OxfordDictioary (2006) denes crypto as the art of  writing o r solvdnY code. \n",
      "\n",
      "cipher 10 The secuet message is: Whtn using a stream cipher, never use the key more than once\n",
      "\n",
      "----------------------------------------------------------------------\n"
     ]
    }
   ],
   "source": [
    "# 定义异或函数\n",
    "def xor(a, b):\n",
    "    return bytes(x ^ y for x, y in zip(a, b))\n",
    "\n",
    "# 找秘钥\n",
    "# def guess_key(ciphertexts):\n",
    "#     # many time pad 首先将秘钥初始化为前面十个密文中最长密文串长度的 并且初始值都为0\n",
    "#     key_guessed = bytearray([0] * max(len(ct) for ct in ciphertexts))\n",
    "\n",
    "#     for i in range(len(key_guessed)):\n",
    "#         # 计数器 一个byte 八个bit 一共256中可能 考虑哪个形式的byte更有贡献\n",
    "#         counter_for_byte = [0] * 256\n",
    "#         # 在十个密文中 两两一组 看看泄露了什么消息 ${C_10}^2$\n",
    "#         for ciphertext1, ciphertext2 in itertools.combinations(ciphertexts, 2):\n",
    "#             # 遍历这两个密文\n",
    "#             if i < len(ciphertext1) and i < len(ciphertext2):\n",
    "#                 # 对他们异或\n",
    "#                 xor_result = ciphertext1[i] ^ ciphertext2[i]\n",
    "#                 # 一个空格和一个字母异或 会改变一个字母的大小写\n",
    "#                 if 65 <= xor_result <= 90 or 97 <+ xor_result <= 122:\n",
    "#                     # 这个模式的byte 做出了贡献\n",
    "#                     counter_for_byte[ciphertext1[i]] += 1 \n",
    "#                     counter_for_byte[ciphertext2[i]] += 1\n",
    "#         key_guessed[i] = counter_for_byte.index(max(counter_for_byte))\n",
    "    \n",
    "#     return key_guessed\n",
    "\n",
    "def guess_key(ciphertexts):\n",
    "    # 计算所有密文中最长的一个的长度，以确定猜测密钥的长度\n",
    "    max_length = max(len(ct) for ct in ciphertexts)\n",
    "    # 初始化猜测的密钥为0，长度与最长密文相同\n",
    "    key_guessed = bytearray([0] * max_length)\n",
    "    # 获取空格字符的ASCII码\n",
    "    space = ord(' ')\n",
    "\n",
    "    # 遍历每一个可能的密钥字节位置\n",
    "    for i in range(max_length):\n",
    "        # 为每个可能的密钥值（0-255）初始化一个得分\n",
    "        scores = [0] * 256\n",
    "        # 遍历所有密文的组合，每次取两个\n",
    "        for ciphertext1, ciphertext2 in itertools.combinations(ciphertexts, 2):\n",
    "            # 确保这两个密文都足够长，可以访问索引i处的字节\n",
    "            if i < len(ciphertext1) and i < len(ciphertext2):\n",
    "                # 计算两个密文在位置i处字节的异或结果\n",
    "                xor_result = ciphertext1[i] ^ ciphertext2[i]\n",
    "                # 如果异或结果是一个大写或小写字母，表明这个位置的密钥字节很可能和一个空格异或了\n",
    "                if 65 <= xor_result <= 90 or 97 <= xor_result <= 122:\n",
    "                    # 增加这个假设的密钥字节的得分\n",
    "                    scores[ciphertext1[i] ^ space] += 1\n",
    "                    scores[ciphertext2[i] ^ space] += 1\n",
    "        # 选择得分最高的密钥字节作为这个位置的猜测值\n",
    "        key_guessed[i] = scores.index(max(scores))\n",
    "\n",
    "    return key_guessed\n",
    "\n",
    "\n",
    "\n",
    "    \n",
    "guessed_key = guess_key(ciphertexts)\n",
    "\n",
    "def dec(cipher, key):\n",
    "    # OTP解密就是异或\n",
    "    return bytes(ct ^ k for ct, k in zip(cipher, itertools.cycle(key)))\n",
    "\n",
    "decrypted_message = dec(target_cipher, guessed_key)\n",
    "\n",
    "print(guessed_key.decode(\"ascii\", errors=\"ignore\"))\n",
    "print(\"----------------------------------------------------------------------\")\n",
    "print(f\"The decrypted message with the key we guessed is : \\n{decrypted_message.decode('utf-8', errors='ignore')}\")\n",
    "print(\"----------------------------------------------------------------------\")\n",
    "for i in range(len(ciphertexts)):\n",
    "    decpryted = dec(ciphertexts[i], guessed_key)\n",
    "    print(\"cipher \" + str(i) + \" \" + decpryted.decode('ascii', errors='ignore')+ \"\\n\")\n",
    "print(\"----------------------------------------------------------------------\")\n",
    "\n"
   ]
  },
  {
   "cell_type": "code",
   "execution_count": 46,
   "metadata": {},
   "outputs": [
    {
     "data": {
      "text/plain": [
       "bytearray(b'f9n\\x89\\xc9\\xdb\\xd8\\xcb\\x98t5*\\xcdc\\x95\\x10.\\xaf\\xcex\\xaa\\x7f\\xed(\\xa0nk\\xc9\\x8d)\\xc5\\x0bi\\xb03\\x9a\\x19\\xf8\\xaa@\\x1a\\x9cmp\\x8f\\x80\\xc0f\\xc7c\\xfe\\xf0\\x121H\\xcd\\xd8\\xe8\\x02\\xd0[\\xa9\\x87w3]\\xae\\xfc\\xec\\xd5\\x9cC:k&\\x8b`\\xbfN\\xf0<\\x9aa\\x10\\x95\\xbb\\x00\\x9a1a\\xed\\xc7\\x00\\x04\\xa35\"\\xcf\\xd2\\x00\\xd2\\x00\\x8cW7n\\xdb\\xa8\\xc2\\x00\\x00\\x02|\\x00$a\\xe2\\xa1\\x00\\x00E\\x02\\x1bP\\x10\\xc0\\xa1\\xba\\x00%x\\x00\\x91\\x11\\x00\\x00\\x00\\x00\\x00\\xe9\\x00\\x02\\x00\\xc4\\xab\\x00\\x00\\x00\\xa9\\x00\\x00\\x00\\x00\\x00\\x8a\\xa8\\x82\\x83\\x00\\x002\\x00\\x00\\x00\\x00\\x00\\x00\\x00\\x00\\x05\\x00\\x00\\x00\\x00\\x00\\x00\\x00\\x00\\x00\\x00\\x00\\x00\\x00\\x00\\x00\\x00')"
      ]
     },
     "execution_count": 46,
     "metadata": {},
     "output_type": "execute_result"
    }
   ],
   "source": [
    "guessed_key"
   ]
  }
 ],
 "metadata": {
  "kernelspec": {
   "display_name": "develop",
   "language": "python",
   "name": "python3"
  },
  "language_info": {
   "codemirror_mode": {
    "name": "ipython",
    "version": 3
   },
   "file_extension": ".py",
   "mimetype": "text/x-python",
   "name": "python",
   "nbconvert_exporter": "python",
   "pygments_lexer": "ipython3",
   "version": "3.10.12"
  }
 },
 "nbformat": 4,
 "nbformat_minor": 2
}
