{
 "cells": [
  {
   "cell_type": "code",
   "execution_count": 12,
   "metadata": {},
   "outputs": [],
   "source": [
    "# 导入必要的库\n",
    "import numpy as np\n",
    "from sklearn.datasets import fetch_openml\n",
    "from sklearn.decomposition import PCA\n",
    "from sklearn.model_selection import train_test_split\n",
    "from sklearn.linear_model import LogisticRegression\n",
    "from sklearn.metrics import accuracy_score\n",
    "from sklearn.utils.extmath import randomized_svd\n",
    "\n",
    "mnist = fetch_openml('mnist_784', data_home=\"data/\")\n",
    "\n",
    "# 将数据集分为训练集和测试集\n",
    "X_train, X_test, y_train, y_test = train_test_split(mnist.data, mnist.target, test_size=0.2, random_state=42)"
   ]
  },
  {
   "cell_type": "code",
   "execution_count": 13,
   "metadata": {},
   "outputs": [
    {
     "name": "stdout",
     "output_type": "stream",
     "text": [
      "准确率为： 0.9152142857142858\n"
     ]
    },
    {
     "name": "stderr",
     "output_type": "stream",
     "text": [
      "e:\\Anaconda3\\envs\\pydefault\\lib\\site-packages\\sklearn\\linear_model\\_logistic.py:763: ConvergenceWarning: lbfgs failed to converge (status=1):\n",
      "STOP: TOTAL NO. of ITERATIONS REACHED LIMIT.\n",
      "\n",
      "Increase the number of iterations (max_iter) or scale the data as shown in:\n",
      "    https://scikit-learn.org/stable/modules/preprocessing.html\n",
      "Please also refer to the documentation for alternative solver options:\n",
      "    https://scikit-learn.org/stable/modules/linear_model.html#logistic-regression\n",
      "  n_iter_i = _check_optimize_result(\n"
     ]
    }
   ],
   "source": [
    "# 加载mnist数据集\n",
    "# 使用PCA进行降维\n",
    "pca = PCA(n_components=0.95)\n",
    "X_train_pca = pca.fit_transform(X_train)\n",
    "X_test_pca = pca.transform(X_test)\n",
    "\n",
    "# 使用逻辑回归进行分类\n",
    "logistic_regression = LogisticRegression(random_state=42, solver='lbfgs')\n",
    "logistic_regression.fit(X_train_pca, y_train)\n",
    "\n",
    "# 预测测试集\n",
    "y_pred = logistic_regression.predict(X_test_pca)\n",
    "\n",
    "# 计算准确率\n",
    "accuracy = accuracy_score(y_test, y_pred)\n",
    "print(\"准确率为：\", accuracy)"
   ]
  },
  {
   "cell_type": "code",
   "execution_count": 18,
   "metadata": {},
   "outputs": [
    {
     "name": "stdout",
     "output_type": "stream",
     "text": [
      "准确率为： 0.8254285714285714\n"
     ]
    },
    {
     "name": "stderr",
     "output_type": "stream",
     "text": [
      "e:\\Anaconda3\\envs\\pydefault\\lib\\site-packages\\sklearn\\linear_model\\_logistic.py:763: ConvergenceWarning: lbfgs failed to converge (status=1):\n",
      "STOP: TOTAL NO. of ITERATIONS REACHED LIMIT.\n",
      "\n",
      "Increase the number of iterations (max_iter) or scale the data as shown in:\n",
      "    https://scikit-learn.org/stable/modules/preprocessing.html\n",
      "Please also refer to the documentation for alternative solver options:\n",
      "    https://scikit-learn.org/stable/modules/linear_model.html#logistic-regression\n",
      "  n_iter_i = _check_optimize_result(\n"
     ]
    }
   ],
   "source": [
    "# 使用RPCA算法进行特征提取和降维\n",
    "rank = 100  # 低秩矩阵的秩\n",
    "lmbda = 1.0 / np.sqrt(max(X_train.shape))\n",
    "tolerance = 1e-7\n",
    "max_iter = 1000\n",
    "\n",
    "# 数据矩阵拆分为低秩和稀疏矩阵\n",
    "U, Sigma, VT = randomized_svd(X_train.values, n_components=rank)\n",
    "low_rank = U[:, :rank] @ np.diag(Sigma[:rank]) @ VT[:rank, :]\n",
    "sparse = X_train - low_rank\n",
    "\n",
    "# 使用PCA进行降维\n",
    "pca = PCA(n_components=0.95)\n",
    "X_train_pca = pca.fit_transform(low_rank)\n",
    "X_test_pca = pca.transform(X_test - np.mean(X_train, axis=0))\n",
    "\n",
    "# 使用逻辑回归进行分类\n",
    "logistic_regression = LogisticRegression(random_state=42, solver='lbfgs')\n",
    "logistic_regression.fit(X_train_pca, y_train)\n",
    "\n",
    "# 预测测试集\n",
    "y_pred = logistic_regression.predict(X_test_pca)\n",
    "\n",
    "# 计算准确率\n",
    "accuracy = accuracy_score(y_test, y_pred)\n",
    "print(\"准确率为：\", accuracy)\n"
   ]
  }
 ],
 "metadata": {
  "kernelspec": {
   "display_name": "pydefault",
   "language": "python",
   "name": "python3"
  },
  "language_info": {
   "codemirror_mode": {
    "name": "ipython",
    "version": 3
   },
   "file_extension": ".py",
   "mimetype": "text/x-python",
   "name": "python",
   "nbconvert_exporter": "python",
   "pygments_lexer": "ipython3",
   "version": "3.8.12"
  },
  "orig_nbformat": 4
 },
 "nbformat": 4,
 "nbformat_minor": 2
}
